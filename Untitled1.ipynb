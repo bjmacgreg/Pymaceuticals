{
 "cells": [
  {
   "cell_type": "code",
   "execution_count": 6,
   "metadata": {},
   "outputs": [
    {
     "data": {
      "text/plain": [
       "[[201703, 'Bob', 3000],\n",
       " [201703, 'Sarah', 6000],\n",
       " [201703, 'Jim', 9000],\n",
       " [201704, 'Bob', 8000],\n",
       " [201704, 'Sarah', 7000],\n",
       " [201704, 'Jim', 12000],\n",
       " [201705, 'Bob', 15000],\n",
       " [201705, 'Sarah', 14000],\n",
       " [201705, 'Jim', 8000],\n",
       " [201706, 'Bob', 10000],\n",
       " [201706, 'Sarah', 18000]]"
      ]
     },
     "execution_count": 6,
     "metadata": {},
     "output_type": "execute_result"
    }
   ],
   "source": [
    "sales_data = [[201703, 'Bob', 3000], [201703, 'Sarah', 6000], [201703, \n",
    "'Jim', 9000], [201704, 'Bob', 8000], [201704, 'Sarah', 7000], [201704, \n",
    "'Jim', 12000], [201705, 'Bob', 15000], [201705, 'Sarah', 14000], [201705, \n",
    "'Jim', 8000], [201706, 'Bob', 10000], [201706, 'Sarah', 18000]]\n",
    "sales_data"
   ]
  },
  {
   "cell_type": "code",
   "execution_count": 2,
   "metadata": {},
   "outputs": [],
   "source": [
    "sorted_sales_data = sorted(sales_data, key=lambda x: -x[2])\n",
    "date_list = []\n",
    "sales_ranks = []"
   ]
  },
  {
   "cell_type": "code",
   "execution_count": 7,
   "metadata": {},
   "outputs": [
    {
     "name": "stdout",
     "output_type": "stream",
     "text": [
      "[201703, 201703, 201703, 201704, 201704, 201704, 201705, 201705, 201705, 201706, 201706, 201703]\n",
      "[201703, 201703, 201703, 201704, 201704, 201704, 201705, 201705, 201705, 201706, 201706, 201703, 201703]\n",
      "[201703, 201703, 201703, 201704, 201704, 201704, 201705, 201705, 201705, 201706, 201706, 201703, 201703, 201703]\n",
      "[201703, 201703, 201703, 201704, 201704, 201704, 201705, 201705, 201705, 201706, 201706, 201703, 201703, 201703, 201704]\n",
      "[201703, 201703, 201703, 201704, 201704, 201704, 201705, 201705, 201705, 201706, 201706, 201703, 201703, 201703, 201704, 201704]\n",
      "[201703, 201703, 201703, 201704, 201704, 201704, 201705, 201705, 201705, 201706, 201706, 201703, 201703, 201703, 201704, 201704, 201704]\n",
      "[201703, 201703, 201703, 201704, 201704, 201704, 201705, 201705, 201705, 201706, 201706, 201703, 201703, 201703, 201704, 201704, 201704, 201705]\n",
      "[201703, 201703, 201703, 201704, 201704, 201704, 201705, 201705, 201705, 201706, 201706, 201703, 201703, 201703, 201704, 201704, 201704, 201705, 201705]\n",
      "[201703, 201703, 201703, 201704, 201704, 201704, 201705, 201705, 201705, 201706, 201706, 201703, 201703, 201703, 201704, 201704, 201704, 201705, 201705, 201705]\n",
      "[201703, 201703, 201703, 201704, 201704, 201704, 201705, 201705, 201705, 201706, 201706, 201703, 201703, 201703, 201704, 201704, 201704, 201705, 201705, 201705, 201706]\n",
      "[201703, 201703, 201703, 201704, 201704, 201704, 201705, 201705, 201705, 201706, 201706, 201703, 201703, 201703, 201704, 201704, 201704, 201705, 201705, 201705, 201706, 201706]\n"
     ]
    }
   ],
   "source": [
    "for i in sales_data:\n",
    "    date_list.append(i[0])\n",
    "    print(date_list)"
   ]
  },
  {
   "cell_type": "code",
   "execution_count": 8,
   "metadata": {},
   "outputs": [
    {
     "data": {
      "text/plain": [
       "[201706, 201705, 201704, 201703]"
      ]
     },
     "execution_count": 8,
     "metadata": {},
     "output_type": "execute_result"
    }
   ],
   "source": [
    "sorted_dates = sorted(set(date_list), reverse=True)\n",
    "sorted_dates"
   ]
  },
  {
   "cell_type": "code",
   "execution_count": 12,
   "metadata": {},
   "outputs": [
    {
     "name": "stdout",
     "output_type": "stream",
     "text": [
      "[201706]\n",
      "[201705]\n",
      "[201704]\n",
      "[201703]\n"
     ]
    }
   ],
   "source": [
    "for i in sorted_dates:\n",
    "    tmp_lst = []\n",
    "    tmp_lst.append(i)\n",
    "    print(tmp_lst)\n",
    "    for j in sorted_sales_data:\n",
    "        if j[0] == i:\n",
    "            tmp_lst.append(j[1])\n",
    "            #print(tmp_lst)\n",
    "    sales_ranks.append(tmp_lst)\n",
    "\n",
    "#print(sales_ranks)"
   ]
  },
  {
   "cell_type": "code",
   "execution_count": null,
   "metadata": {},
   "outputs": [],
   "source": []
  }
 ],
 "metadata": {
  "kernelspec": {
   "display_name": "Python 3",
   "language": "python",
   "name": "python3"
  },
  "language_info": {
   "codemirror_mode": {
    "name": "ipython",
    "version": 3
   },
   "file_extension": ".py",
   "mimetype": "text/x-python",
   "name": "python",
   "nbconvert_exporter": "python",
   "pygments_lexer": "ipython3",
   "version": "3.6.10"
  }
 },
 "nbformat": 4,
 "nbformat_minor": 4
}
