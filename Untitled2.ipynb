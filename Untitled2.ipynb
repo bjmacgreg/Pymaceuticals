{
 "cells": [
  {
   "cell_type": "code",
   "execution_count": 3,
   "metadata": {},
   "outputs": [
    {
     "data": {
      "text/plain": [
       "array([ 70.03673039,  74.27508094,  70.92800107,  56.67455225,\n",
       "        97.77853328,  70.6334846 ,  24.79157587,  15.78833509,\n",
       "        69.76985214,  71.99566667,  25.77444303,  34.15467831,\n",
       "        96.87611677,  69.45070978,  46.63832593,  70.28126954,\n",
       "        51.1785874 ,  92.874137  ,  73.97692989,  62.24390337,\n",
       "        65.15454689,  39.68076115,  54.32393949,  79.98995282,\n",
       "        72.15447266,  29.53639811,  16.09458806,  20.61255148,\n",
       "        13.43253868,  48.06050174,  34.25218134,  36.29692901,\n",
       "        97.29176387,  11.09436116,  38.82640891,  78.30658753,\n",
       "        97.28972601,  48.32096053,  33.64211054,  56.74190362,\n",
       "         4.79415097,  38.8937029 ,  90.63036451,  16.10182093,\n",
       "        74.36211347,  63.29741618,  32.41800177,  92.23765324,\n",
       "        23.72264387,  82.39455709,  50.        ,  50.        ,\n",
       "        50.        ,  50.        ,  50.        ,  50.        ,\n",
       "        50.        ,  50.        ,  50.        ,  50.        ,\n",
       "        50.        ,  50.        ,  50.        ,  50.        ,\n",
       "        50.        ,  50.        ,  50.        ,  50.        ,\n",
       "        50.        ,  50.        ,  50.        ,  50.        ,\n",
       "        50.        ,  50.        ,  50.        , 175.06071403,\n",
       "       111.37844527, 184.53612452, 192.3932129 , 122.08367918,\n",
       "       193.3053876 , 148.89987436, 147.47186402, 108.91674722,\n",
       "       122.9948178 , -71.59374101, -49.6126162 , -76.64893785,\n",
       "       -89.67973224, -77.22230183, -92.71742883, -61.46520272,\n",
       "       -60.90637692, -68.46848657, -25.10129674])"
      ]
     },
     "execution_count": 3,
     "metadata": {},
     "output_type": "execute_result"
    }
   ],
   "source": [
    "import numpy as np\n",
    "import matplotlib.pyplot as plt\n",
    "\n",
    "# Fixing random state for reproducibility\n",
    "np.random.seed(19680801)\n",
    "\n",
    "# fake up some data\n",
    "spread = np.random.rand(50) * 100\n",
    "center = np.ones(25) * 50\n",
    "flier_high = np.random.rand(10) * 100 + 100\n",
    "flier_low = np.random.rand(10) * -100\n",
    "data = np.concatenate((spread, center, flier_high, flier_low))\n",
    "data"
   ]
  },
  {
   "cell_type": "code",
   "execution_count": 4,
   "metadata": {},
   "outputs": [
    {
     "data": {
      "text/plain": [
       "{'whiskers': [<matplotlib.lines.Line2D at 0x7fefa038e390>,\n",
       "  <matplotlib.lines.Line2D at 0x7fefa038e710>],\n",
       " 'caps': [<matplotlib.lines.Line2D at 0x7fefa038ea90>,\n",
       "  <matplotlib.lines.Line2D at 0x7fefa038ee10>],\n",
       " 'boxes': [<matplotlib.lines.Line2D at 0x7fefa038e080>],\n",
       " 'medians': [<matplotlib.lines.Line2D at 0x7fefa039d1d0>],\n",
       " 'fliers': [<matplotlib.lines.Line2D at 0x7fefa039d550>],\n",
       " 'means': []}"
      ]
     },
     "execution_count": 4,
     "metadata": {},
     "output_type": "execute_result"
    },
    {
     "data": {
      "image/png": "[encoded data removed]",
      "text/plain": [
       "<Figure size 432x288 with 1 Axes>"
      ]
     },
     "metadata": {
      "needs_background": "light"
     },
     "output_type": "display_data"
    }
   ],
   "source": [
    "fig1, ax1 = plt.subplots()\n",
    "ax1.set_title('Basic Plot')\n",
    "ax1.boxplot(data)"
   ]
  },
  {
   "cell_type": "code",
   "execution_count": null,
   "metadata": {},
   "outputs": [],
   "source": []
  },
  {
   "cell_type": "code",
   "execution_count": null,
   "metadata": {},
   "outputs": [],
   "source": []
  }
 ],
 "metadata": {
  "kernelspec": {
   "display_name": "Python 3",
   "language": "python",
   "name": "python3"
  },
  "language_info": {
   "codemirror_mode": {
    "name": "ipython",
    "version": 3
   },
   "file_extension": ".py",
   "mimetype": "text/x-python",
   "name": "python",
   "nbconvert_exporter": "python",
   "pygments_lexer": "ipython3",
   "version": "3.6.10"
  }
 },
 "nbformat": 4,
 "nbformat_minor": 4
}
