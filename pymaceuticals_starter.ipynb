{
 "cells": [
  {
   "cell_type": "markdown",
   "metadata": {},
   "source": [
    "## Observations and Insights "
   ]
  },
  {
   "cell_type": "markdown",
   "metadata": {},
   "source": [
    "#Look across all previously generated figures and tables and write at least three observations or inferences \n",
    "#that can be made from the data. Include these observations at the top of notebook."
   ]
  },
  {
   "cell_type": "markdown",
   "metadata": {},
   "source": [
    "Dependencies and data setup"
   ]
  },
  {
   "cell_type": "code",
   "execution_count": null,
   "metadata": {},
   "outputs": [],
   "source": [
    "import matplotlib.pyplot as plt\n",
    "import pandas as pd\n",
    "import scipy.stats as st\n",
    "from itertools import cycle, islice\n",
    "import seaborn as sns\n",
    "from scipy.stats import linregress\n",
    "\n",
    "# Study data files\n",
    "mouse_metadata_path = \"data/Mouse_metadata.csv\"\n",
    "study_results_path = \"data/Study_results.csv\"\n",
    "\n",
    "# Read the mouse data and the study results\n",
    "mouse_metadata = pd.read_csv(mouse_metadata_path)\n",
    "study_results = pd.read_csv(study_results_path)\n",
    "study_results = study_results.rename(columns={\"Drug Regimen\":\"Drug_Regimen\", \"Tumor Volume (mm3)\":\"Tumor_Volume_mm3\", \"Mouse ID\":\"Mouse_ID\"})\n",
    "mouse_metadata = mouse_metadata.rename(columns={\"Drug Regimen\":\"Drug_Regimen\", \"Mouse ID\":\"Mouse_ID\"})\n",
    "\n",
    "mouse_study_df = pd.merge(mouse_metadata, study_results)\n",
    "\n",
    "mouse_study_df"
   ]
  },
  {
   "cell_type": "markdown",
   "metadata": {},
   "source": [
    "Check for duplicate mouse ID numbers"
   ]
  },
  {
   "cell_type": "code",
   "execution_count": null,
   "metadata": {},
   "outputs": [],
   "source": [
    "# Checking the number of mice.\n",
    "a = mouse_metadata[\"Mouse_ID\"].nunique()\n",
    "b = study_results[\"Mouse_ID\"].nunique()\n",
    "c = mouse_study_df[\"Mouse_ID\"].nunique()\n",
    "a, b, c"
   ]
  },
  {
   "cell_type": "code",
   "execution_count": null,
   "metadata": {},
   "outputs": [],
   "source": [
    "# Getting the duplicate mice by ID number that shows up for Mouse ID and Timepoint. \n",
    "#https://stackoverflow.com/questions/29276958/identifying-duplicate-pairs-in-python-pandas\n",
    "find_dup = mouse_study_df.groupby(['Mouse_ID', 'Timepoint']).size()                                 \n",
    "find_dup = find_dup[find_dup > 1]\n",
    "find_dup"
   ]
  },
  {
   "cell_type": "code",
   "execution_count": null,
   "metadata": {},
   "outputs": [],
   "source": [
    "# Optional: Get all the data for the duplicate mouse ID. \n",
    "# One copy of g989 seems to have died... will remove both of them, although maybe whoever collected the data\n",
    "#knows the story\n",
    "dup = mouse_study_df.loc[mouse_study_df['Mouse_ID'] == \"g989\"]\n",
    "dup"
   ]
  },
  {
   "cell_type": "markdown",
   "metadata": {},
   "source": [
    "Make clean dataframe"
   ]
  },
  {
   "cell_type": "code",
   "execution_count": null,
   "metadata": {},
   "outputs": [],
   "source": [
    "# Create a clean DataFrame by dropping the duplicate mouse by its ID.\n",
    "mouse_study_clean_df = mouse_study_df[mouse_study_df[\"Mouse_ID\"] != \"g989\"]\n",
    "#mouse_study_clean_df.dtypes\n",
    "mouse_study_clean_df"
   ]
  },
  {
   "cell_type": "code",
   "execution_count": null,
   "metadata": {},
   "outputs": [],
   "source": [
    "# Checking the number of mice in the clean DataFrame.\n",
    "mouse_study_clean_df[\"Mouse_ID\"].nunique()"
   ]
  },
  {
   "cell_type": "markdown",
   "metadata": {},
   "source": [
    "Put placebo results first (for science)"
   ]
  },
  {
   "cell_type": "code",
   "execution_count": null,
   "metadata": {},
   "outputs": [],
   "source": [
    "#This seems harder than it should be, but none of the easier-looking suggestions I found did more than put the\n",
    "#treatments in alphabetical order.\n",
    "\n",
    "#https://stackoverflow.com/questions/43266211/sort-a-dataframe-based-on-values-of-another-column-using-\\\n",
    "#integer-data-type                                                     \n",
    "#https://stackoverflow.com/questions/23279238/custom-sorting-with-pandas\n",
    "\n",
    "drugs = mouse_study_clean_df.Drug_Regimen.unique()\n",
    "#drugs\n",
    "order = {'Placebo':0,'Ramicane':1, 'Capomulin':2, 'Infubinol':3,  'Ceftamin':4, 'Stelasyn':5, 'Zoniferol':6, 'Ketapril':7, 'Propriva':8, 'Naftisol':9}\n",
    "mouse_study_clean_df.loc[:,'rank'] = mouse_study_clean_df.loc[:,'Drug_Regimen'].map(order)\n",
    "mouse_study_clean_df = mouse_study_clean_df.iloc[mouse_study_clean_df.loc[:,'rank'].argsort()].dropna()\n",
    "mouse_study_clean_df = mouse_study_clean_df.drop(labels=['rank'],axis=1)\n",
    "\n",
    "mouse_study_clean_df.loc[:, \"Age_months\"] = pd.to_numeric(mouse_study_clean_df.loc[:, \"Age_months\"])\n",
    "mouse_study_clean_df.loc[:,\"Weight (g)\"] = pd.to_numeric(mouse_study_clean_df.loc[:, \"Weight (g)\"])\n",
    "mouse_study_clean_df.loc[:,\"Timepoint\"] = pd.to_numeric(mouse_study_clean_df.loc[:, \"Timepoint\"])\n",
    "mouse_study_clean_df.loc[:,\"Tumor_Volume_mm3\"] = pd.to_numeric(mouse_study_clean_df.loc[:, \"Tumor_Volume_mm3\"])\n",
    "mouse_study_clean_df.loc[:,\"Metastatic Sites\"] = pd.to_numeric(mouse_study_clean_df.loc[:,\"Metastatic Sites\"])\n",
    "\n",
    "mouse_study_clean_df\n",
    "\n",
    "#mouse_study_clean_df.dtypes"
   ]
  },
  {
   "cell_type": "markdown",
   "metadata": {},
   "source": [
    "## Summary Statistics"
   ]
  },
  {
   "cell_type": "markdown",
   "metadata": {},
   "source": [
    "Generate a summary statistics table of mean, median, variance, standard deviation, and SEM of the tumor volume \n",
    "for each regimen"
   ]
  },
  {
   "cell_type": "markdown",
   "metadata": {},
   "source": [
    "This method is the most straighforward, creating multiple series and putting them all together at the end."
   ]
  },
  {
   "cell_type": "code",
   "execution_count": null,
   "metadata": {},
   "outputs": [],
   "source": [
    "mice_by_drugs = mouse_study_clean_df.groupby(\"Drug_Regimen\")\n",
    "#drugs = mouse_study_clean_df.Drug_Regimen.unique()\n",
    "#mice_by_drugs\n",
    "mean = mice_by_drugs[\"Tumor_Volume_mm3\"].mean()\n",
    "median = mice_by_drugs[\"Tumor_Volume_mm3\"].median()\n",
    "variance = mice_by_drugs[\"Tumor_Volume_mm3\"].var()\n",
    "std = mice_by_drugs[\"Tumor_Volume_mm3\"].std()\n",
    "sem = mice_by_drugs[\"Tumor_Volume_mm3\"].sem()\n",
    "\n",
    "mouse_study_stats_df = pd.merge(mean, median, on=[\"Drug_Regimen\"])\n",
    "mouse_study_stats_df = mouse_study_stats_df.rename(columns = {\"Tumor_Volume_mm3_x\":\"mean\", \"Tumor_Volume_mm3_y\":\"median\"})\n",
    "mouse_study_stats_df = pd.merge(mouse_study_stats_df, variance, on=[\"Drug_Regimen\"])\n",
    "mouse_study_stats_df = mouse_study_stats_df.rename(columns = {\"Tumor_Volume_mm3\":\"variance\"})\n",
    "mouse_study_stats_df = pd.merge(mouse_study_stats_df, std, on=[\"Drug_Regimen\"])\n",
    "mouse_study_stats_df = mouse_study_stats_df.rename(columns = {\"Tumor_Volume_mm3\":\"std\"})\n",
    "mouse_study_stats_df = pd.merge(mouse_study_stats_df, sem, on=[\"Drug_Regimen\"])\n",
    "mouse_study_stats_df = mouse_study_stats_df.rename(columns = {\"Tumor_Volume_mm3\":\"sem\"})\n",
    "\n",
    "#Put placebo results first\n",
    "order = pd.Categorical(['Placebo','Ramicane', 'Capomulin', 'Infubinol',  'Ceftamin', 'Stelasyn', 'Zoniferol', 'Ketapril', 'Propriva', 'Naftisol'], ordered=True)\n",
    "mouse_study_stats_df = mouse_study_stats_df.reindex(order)\n",
    "\n",
    "mouse_study_stats_df"
   ]
  },
  {
   "cell_type": "markdown",
   "metadata": {},
   "source": [
    "This method produces everything in a single groupby function"
   ]
  },
  {
   "cell_type": "code",
   "execution_count": null,
   "metadata": {},
   "outputs": [],
   "source": [
    "#https://stackoverflow.com/questions/55388610/how-to-calculate-aggregated-summary-statistics-in-pandas-dataframe\n",
    "\n",
    "summary_table = mouse_study_clean_df.groupby([\"Drug_Regimen\"]).agg({\"Tumor_Volume_mm3\":['mean', 'median', 'var', 'std', 'sem']})\n",
    "\n",
    "#Put placebo results first\n",
    "order = pd.Categorical(['Placebo','Ramicane', 'Capomulin', 'Infubinol',  'Ceftamin', 'Stelasyn', 'Zoniferol', 'Ketapril', 'Propriva', 'Naftisol'], ordered=True)\n",
    "summary_table = summary_table.reindex(order)\n",
    "\n",
    "summary_table"
   ]
  },
  {
   "cell_type": "markdown",
   "metadata": {},
   "source": [
    "## Bar and Pie Charts"
   ]
  },
  {
   "cell_type": "markdown",
   "metadata": {},
   "source": [
    "Use Pandas to generate a bar plot showing the total number of mice in each treatment regimen throughout the course of the study. "
   ]
  },
  {
   "cell_type": "code",
   "execution_count": null,
   "metadata": {},
   "outputs": [],
   "source": [
    "#Put placebo results first\n",
    "ordered_drugs = ['Placebo','Ramicane', 'Capomulin', 'Infubinol',  'Ceftamin', 'Stelasyn', 'Zoniferol', 'Ketapril', 'Propriva', 'Naftisol']\n",
    "order = pd.api.types.CategoricalDtype(categories=ordered_drugs, ordered=True)\n",
    "mouse_study_clean_df['Drug_Regimen'] = mouse_study_clean_df['Drug_Regimen'].astype(order)\n",
    "\n",
    "drug_only_group = mouse_study_clean_df.groupby(['Drug_Regimen'])\n",
    "\n",
    "count_unique_mice = drug_only_group['Mouse_ID'].nunique()\n",
    "\n",
    "ax=count_unique_mice.plot(kind=\"bar\", figsize=(7,3), legend=False, rot=30, zorder=3)\n",
    "\n",
    "ax.set_ylabel(\"Mice\", size=12)\n",
    "ax.set_xlabel(\"Drug Regimen\", size=12)\n",
    "ax.set_title(\"Mice per treatment\", size=14)\n",
    "ax.grid(axis='y', zorder=0)\n",
    "plt.draw()"
   ]
  },
  {
   "cell_type": "markdown",
   "metadata": {},
   "source": [
    "Use Pyplot to generate a bar plot showing the total number of mice treatment in each treatment regimen throughout \n",
    "the course of the study."
   ]
  },
  {
   "cell_type": "code",
   "execution_count": null,
   "metadata": {},
   "outputs": [],
   "source": [
    "#Put placebo results first\n",
    "ordered_drugs = ['Placebo','Ramicane', 'Capomulin', 'Infubinol',  'Ceftamin', 'Stelasyn', 'Zoniferol', 'Ketapril', 'Propriva', 'Naftisol']\n",
    "order = pd.api.types.CategoricalDtype(categories=ordered_drugs, ordered=True)\n",
    "mouse_study_clean_df.loc['Drug_Regimen'] = mouse_study_clean_df['Drug_Regimen'].astype(order)\n",
    "\n",
    "drug_only_group = mouse_study_clean_df.groupby(['Drug_Regimen'])\n",
    "\n",
    "count_unique_mice = drug_only_group['Mouse_ID'].nunique()\n",
    "\n",
    "count_chart = count_unique_mice.plot(kind='bar', figsize=(7,3), rot=30, zorder=3)\n",
    "plt.title(\"Mice per treatment\", size=14)\n",
    "plt.ylabel(\"Mice\", size=12)\n",
    "plt.xlabel(\"Drug Regimen\", size=12)\n",
    "plt.grid(axis='y', zorder=0)\n",
    "plt.show()"
   ]
  },
  {
   "cell_type": "code",
   "execution_count": null,
   "metadata": {},
   "outputs": [],
   "source": [
    "#\"Duplicate\" mouse was removed from Propiva group, what's with Stelasyn? Nothing obvious to me in data,\n",
    "#probably have to ask the researchers.\n",
    "Propriva_group = mouse_study_df.loc[mouse_study_df['Drug_Regimen'] == \"Stelasyn\"]\n",
    "Propriva_group_sorted = Propriva_group.sort_values([\"Mouse_ID\",\"Timepoint\"])\n",
    "pd.set_option('display.max_rows', 1000)\n",
    "Propriva_group_sorted"
   ]
  },
  {
   "cell_type": "markdown",
   "metadata": {},
   "source": [
    "Here are a couple of charts I made having interpreted \"throughout the study\" as \"over the time course\".\n",
    "Too pretty to discard.\n",
    "\n",
    "In real life I would probably make more user-friendly x-axes, couldn't yet find a pandas method\n",
    "that worked the way I wanted (and now see I don't have to)."
   ]
  },
  {
   "cell_type": "code",
   "execution_count": null,
   "metadata": {},
   "outputs": [],
   "source": [
    "#https://stackoverflow.com/questions/39275294/sort-by-certain-order-situation-pandas-dataframe-groupby\n",
    "\n",
    "#Put placebo results first\n",
    "ordered_drugs = ['Placebo','Ramicane', 'Capomulin', 'Infubinol',  'Ceftamin', 'Stelasyn', 'Zoniferol', 'Ketapril', 'Propriva', 'Naftisol']\n",
    "order = pd.api.types.CategoricalDtype(categories=ordered_drugs, ordered=True)\n",
    "mouse_study_clean_df['Drug_Regimen'] = mouse_study_clean_df['Drug_Regimen'].astype(order)\n",
    "\n",
    "drug_group = mouse_study_clean_df.groupby(['Drug_Regimen', 'Timepoint'])\n",
    "\n",
    "count_mice = drug_group['Mouse_ID'].count()\n",
    "\n",
    "my_colors = list(islice(cycle(['0', '.07', '0.14', '0.21', '0.28', '0.35', '0.42', '0.49', '0.56', '0.63']), None, len(drug_group)))\n",
    "\n",
    "ax=count_mice.plot(kind=\"bar\", figsize=(20,3), legend=False, title=\"Survival by treatment\", color=my_colors, zorder=3)\n",
    "\n",
    "ax.set_ylabel(\"Surviving mice\", size=16)\n",
    "ax.set_xlabel(\"Drug Regimen, Timepoint (days)\", size=16)\n",
    "ax.set_title(\"Survival by treatment\", size=20)\n",
    "ax.grid(axis='y', zorder=0)"
   ]
  },
  {
   "cell_type": "code",
   "execution_count": null,
   "metadata": {},
   "outputs": [],
   "source": [
    "#Put placebo results first\n",
    "ordered_drugs = ['Placebo','Ramicane', 'Capomulin', 'Infubinol',  'Ceftamin', 'Stelasyn', 'Zoniferol', 'Ketapril', 'Propriva', 'Naftisol']\n",
    "order = pd.api.types.CategoricalDtype(categories=ordered_drugs, ordered=True)\n",
    "mouse_study_clean_df.loc['Drug_Regimen'] = mouse_study_clean_df['Drug_Regimen'].astype(order)\n",
    "\n",
    "drug_group = mouse_study_clean_df.groupby(['Drug_Regimen', 'Timepoint'])\n",
    "\n",
    "count_mice = drug_group['Mouse_ID'].count()\n",
    "\n",
    "colors = '0', '.07', '0.14', '0.21', '0.28', '0.35', '0.42', '0.49', '0.56', '0.63'\n",
    "\n",
    "count_chart = count_mice.plot(kind='bar', color=colors, figsize=(20,3), zorder=3)\n",
    "plt.title(\"Survival by treatment\", size=20)\n",
    "plt.ylabel(\"Surviving mice\", size=16)\n",
    "plt.xlabel(\"Drug Regimen, Timepoint (days)\", size=16)\n",
    "plt.grid(axis='y', zorder=0)\n",
    "plt.show()"
   ]
  },
  {
   "cell_type": "markdown",
   "metadata": {},
   "source": [
    "Generate a pie plot using Pandas's `DataFrame.plot()` that shows the distribution of female or male mice in the study."
   ]
  },
  {
   "cell_type": "code",
   "execution_count": null,
   "metadata": {},
   "outputs": [],
   "source": [
    "ax=mouse_study_clean_df['Sex'].value_counts().plot.pie(startangle=90, autopct='%1.0f%%', label='')\n",
    "ax.set_title(\"Mice by sex\")"
   ]
  },
  {
   "cell_type": "markdown",
   "metadata": {},
   "source": [
    "Generate a pie plot showing the distribution of female versus male mice using pyplot."
   ]
  },
  {
   "cell_type": "code",
   "execution_count": null,
   "metadata": {},
   "outputs": [],
   "source": [
    "labels=\"Male\", \"Female\"\n",
    "plt.pie(mouse_study_clean_df['Sex'].value_counts(), labels=labels, autopct='%1.0f%%', startangle=90)\n",
    "plt.title(\"Mice by sex\")\n",
    "plt.axis('equal')\n",
    "plt.show"
   ]
  },
  {
   "cell_type": "markdown",
   "metadata": {},
   "source": [
    "## Quartiles, Outliers and Boxplots"
   ]
  },
  {
   "cell_type": "markdown",
   "metadata": {},
   "source": [
    "Calculate the final tumor volume of each mouse across four of the most promising treatment regimens: Capomulin, \n",
    "Ramicane, Infubinol, and Ceftamin. "
   ]
  },
  {
   "cell_type": "code",
   "execution_count": null,
   "metadata": {},
   "outputs": [],
   "source": [
    "#https://stackoverflow.com/questions/23394476/keep-other-columns-when-doing-groupby\n",
    "\n",
    "mouse_study_clean_df_by_drug =  mouse_study_clean_df.set_index('Drug_Regimen')\n",
    "mouse_study_clean_best_drugs = mouse_study_clean_df_by_drug.drop(index=['Placebo','Stelasyn', 'Zoniferol', 'Ketapril', 'Propriva', 'Naftisol'])\n",
    "mouse_study_clean_best_drugs_no_na = mouse_study_clean_best_drugs.dropna()\n",
    "mouse_study_clean_best_drugs_no_na.reset_index(inplace=True)\n",
    "final_timepoints_grouped = mouse_study_clean_best_drugs_no_na.sort_values(\"Timepoint\").groupby(['Drug_Regimen','Mouse_ID'], as_index=False).last().dropna()\n",
    "final_timepoints_grouped[\"Metastatic Sites\"] = final_timepoints_grouped[\"Metastatic Sites\"].astype(int)\n",
    "\n",
    "pd.set_option('display.max_rows', 1000)\n",
    "final_timepoints_grouped\n",
    "#final_timepoints_grouped.dtypes\n",
    "\n",
    "#final_timepoints_index_reset = final_timepoints_grouped.reset_index()\n",
    "#final_timepoints_index_reset\n",
    "\n",
    "#As far as I can tell there are none of the unwanted treatments in this dataframe, and yet\n",
    "#the boxplots are giving trouble... Here's one test, results are all \"False\"\n",
    "\n",
    "#c1 = ['Placebo','Stelasyn','Zoniferol','Ketapril','Propriva','Naftisol']\n",
    "#final_timepoints_grouped['Drug_Regimen'].isin(c1)\n",
    "\n",
    "#c1 = ['Placebo','Stelasyn','Zoniferol','Ketapril','Propriva','Naftisol']\n",
    "#final_timepoints_index_reset['Drug_Regimen'].isin(c1)\n",
    "\n",
    "#FINALLY found an answer that works, although I can't say I see why. Applied for box plots (below).\n",
    "\n",
    "#https://stackoverflow.com/questions/39380389/hoy-can-i-plot-a-group-by-boxplot-in-pandas-dropping-unused-categories\n"
   ]
  },
  {
   "cell_type": "markdown",
   "metadata": {},
   "source": [
    "Calculate the quartiles and IQR and quantitatively determine if there are any potential outliers across \n",
    "all four treatment regimens.\n",
    "\n",
    "Answer: One outlier (barely) in Infubinol mininum volume."
   ]
  },
  {
   "cell_type": "code",
   "execution_count": null,
   "metadata": {},
   "outputs": [],
   "source": [
    "\n",
    "#best_drugs_final_timepoints_df = best_drugs_final_timepoints_df[best_drugs_final_timepoints_df[\"Drug_Regimen\"].isin(['Capomulin','Ramicane','Infubinol','Ceftamin'])]\n",
    "Lower_quartile = final_timepoints_grouped.groupby(\"Drug_Regimen\")['Tumor_Volume_mm3'].quantile([.25])\n",
    "Median = final_timepoints_grouped.groupby(\"Drug_Regimen\")['Tumor_Volume_mm3'].quantile([.5])\n",
    "Upper_quartile = final_timepoints_grouped.groupby(\"Drug_Regimen\")['Tumor_Volume_mm3'].quantile([.75])\n",
    "\n",
    "quartiles_df=pd.merge(Lower_quartile, Median, on=\"Drug_Regimen\")\n",
    "quartiles_df = quartiles_df.rename(columns = {\"Tumor_Volume_mm3_x\":\"Lower_quartile\", \"Tumor_Volume_mm3_y\":\"Median\"})\n",
    "quartiles_df=pd.merge(quartiles_df, Upper_quartile, on=\"Drug_Regimen\")\n",
    "quartiles_df = quartiles_df.rename(columns = {\"Tumor_Volume_mm3\":\"Upper_quartile\"})\n",
    "\n",
    "quartiles_df[\"IQR\"] = quartiles_df[\"Upper_quartile\"] - quartiles_df[\"Lower_quartile\"]\n",
    "\n",
    "quartiles_df[\"Lower_bound\"] = quartiles_df[\"Lower_quartile\"] - (1.5*quartiles_df[\"IQR\"])\n",
    "quartiles_df[\"Upper_bound\"] = quartiles_df[\"Upper_quartile\"] + (1.5*quartiles_df[\"IQR\"])\n",
    "\n",
    "quartiles_df[\"Min_volume\"] = final_timepoints_grouped.groupby(\"Drug_Regimen\")['Tumor_Volume_mm3'].min()\n",
    "quartiles_df[\"Max_volume\"] = final_timepoints_grouped.groupby(\"Drug_Regimen\")['Tumor_Volume_mm3'].max()\n",
    "\n",
    "#For some reason there were rows of NaN values showing up for the unwanted treatments, although as far as I \n",
    "#can see they aren't in the source file final_timepoints_grouped (see previous cell). Finally gave up and \n",
    "#deleted them:\n",
    "\n",
    "#quartiles_df\n",
    "quartiles_no_NaN = quartiles_df.dropna()\n",
    "quartiles_no_NaN\n",
    "\n",
    "# Tried to highlight the outlier in the table by applying conditions, but attempts at even really simple highlighting\n",
    "# gave \"AttributeError: 'Styler' object has no attribute 'style'\". Decided it was unimportant for now.\n",
    "\n"
   ]
  },
  {
   "cell_type": "markdown",
   "metadata": {},
   "source": [
    "Using Matplotlib, generate a box and whisker plot of the final tumor volume for all four treatment regimens \n",
    "and highlight any potential outliers in the plot by changing their color and style."
   ]
  },
  {
   "cell_type": "markdown",
   "metadata": {},
   "source": [
    "Extra special data cleanup for box plots."
   ]
  },
  {
   "cell_type": "code",
   "execution_count": null,
   "metadata": {},
   "outputs": [],
   "source": [
    "#https://stackoverflow.com/questions/39380389/hoy-can-i-plot-a-group-by-boxplot-in-pandas-dropping-unused-categories\n",
    "\n",
    "final_timepoints_grouped[\"Drug_Regimen2\"] = pd.Categorical(final_timepoints_grouped[\"Drug_Regimen\"], list(['Ramicane', 'Capomulin', 'Infubinol', 'Ceftamin']))\n",
    "\n",
    "final_timepoints_grouped"
   ]
  },
  {
   "cell_type": "markdown",
   "metadata": {},
   "source": [
    "Matplotlib version"
   ]
  },
  {
   "cell_type": "code",
   "execution_count": null,
   "metadata": {},
   "outputs": [],
   "source": [
    "red_diamond = dict(markerfacecolor='r', marker='D', markersize=8)\n",
    "ax = final_timepoints_grouped.boxplot(column=[\"Tumor_Volume_mm3\"], by=\"Drug_Regimen2\", flierprops=red_diamond)\n",
    "plt.suptitle(\"\")\n",
    "ax.set_xlabel(\"Drug Regimen\")\n",
    "ax.set_title(\"Final Tumor Volume (mm^3)\")\n",
    "plt.show() "
   ]
  },
  {
   "cell_type": "markdown",
   "metadata": {},
   "source": [
    "Seaborn version - better default axis labeling IMHO, and a simple option for showing all the \n",
    "data (my preference) without having to merge plots or some ugly thing."
   ]
  },
  {
   "cell_type": "code",
   "execution_count": null,
   "metadata": {},
   "outputs": [],
   "source": [
    "#https://seaborn.pydata.org/generated/seaborn.boxplot.html\n",
    "\n",
    "red_square = dict(markerfacecolor='r', markeredgecolor='r', marker='D', markersize=8)\n",
    "sns.set(style=\"whitegrid\")\n",
    "ax = sns.boxplot(x='Drug_Regimen2',y='Tumor_Volume_mm3',color=\"skyblue\", data=final_timepoints_grouped,flierprops=red_square)\n",
    "ax = sns.swarmplot(x='Drug_Regimen2',y='Tumor_Volume_mm3',data=final_timepoints_grouped, color=\".25\")\n",
    "\n",
    "ax.set_xlabel(\"Drug Regimen\")\n",
    "ax.set_ylabel(\"Final Tumor Volume (mm^3)\")\n",
    "plt.show()"
   ]
  },
  {
   "cell_type": "markdown",
   "metadata": {},
   "source": [
    "This is a pandas version..."
   ]
  },
  {
   "cell_type": "code",
   "execution_count": null,
   "metadata": {},
   "outputs": [],
   "source": [
    "#https://stackoverflow.com/questions/39297093/change-the-facecolor-of-boxplot-in-pandas\n",
    "#(doesn't work exactly as in the example... but anyway does change some colors)\n",
    "\n",
    "red_diamond = dict(markerfacecolor='r', marker='D', markersize=8)\n",
    "props = dict(boxes=\"DarkGreen\", whiskers=\"DarkOrange\", medians=\"DarkBlue\", caps=\"Gray\")\n",
    "tumor_size_boxplot = final_timepoints_grouped.boxplot(column=\"Tumor_Volume_mm3\", by=\"Drug_Regimen2\", flierprops=red_diamond, figsize=(7, 5), color=props)\n",
    "plt.suptitle('') \n",
    "plt.show()"
   ]
  },
  {
   "cell_type": "markdown",
   "metadata": {},
   "source": [
    "## Line and Scatter Plots"
   ]
  },
  {
   "cell_type": "markdown",
   "metadata": {},
   "source": [
    "Select a mouse that was treated with Capomulin and generate a line plot of tumor volume vs. timepoint for that mouse."
   ]
  },
  {
   "cell_type": "code",
   "execution_count": null,
   "metadata": {},
   "outputs": [],
   "source": [
    "Mouse_b128_df = mouse_study_clean_df.loc[mouse_study_clean_df['Mouse_ID'] == \"b128\"]\n",
    "Mouse_b128_df_sorted\n",
    "plot = plt.plot(Mouse_b128_df_sorted[\"Timepoint\"], Mouse_b128_df_sorted[\"Tumor_Volume_mm3\"])\n",
    "plt.xlabel('Timepoint (day)', size=12)\n",
    "plt.ylabel('Tumor volume (mm^3)', size=12)\n",
    "plt.suptitle('Capomulin treatment: Mouse B128')\n",
    "plt.show()"
   ]
  },
  {
   "cell_type": "markdown",
   "metadata": {},
   "source": [
    "Generate a scatter plot of average tumor volume vs. mouse weight for the Capomulin treatment regimen."
   ]
  },
  {
   "cell_type": "code",
   "execution_count": null,
   "metadata": {},
   "outputs": [],
   "source": [
    "Capomulin_df = mouse_study_clean_df.loc[mouse_study_clean_df['Drug_Regimen'] == 'Capomulin']\n",
    "\n",
    "Capomulin_df.loc[:, \"Age_months\"] = pd.to_numeric(Capomulin_df.loc[:, \"Age_months\"])\n",
    "Capomulin_df.loc[:,\"Weight (g)\"] = pd.to_numeric(Capomulin_df.loc[:, \"Weight (g)\"])\n",
    "Capomulin_df.loc[:,\"Timepoint\"] = pd.to_numeric(Capomulin_df.loc[:, \"Timepoint\"])\n",
    "Capomulin_df.loc[:,\"Tumor_Volume_mm3\"] = pd.to_numeric(Capomulin_df.loc[:, \"Tumor_Volume_mm3\"])\n",
    "Capomulin_df.loc[:,\"Metastatic Sites\"] = pd.to_numeric(Capomulin_df.loc[:,\"Metastatic Sites\"])\n",
    "\n",
    "Capomulin_by_mouse = Capomulin_df.groupby(\"Mouse_ID\")\n",
    "\n",
    "mean_tumor_volume = Capomulin_by_mouse[\"Tumor_Volume_mm3\"].mean()\n",
    "\n",
    "mean_mouse_weight = Capomulin_by_mouse[\"Weight (g)\"].mean()\n",
    "\n",
    "Capomulin_tumor_vol_mouse_weight = pd.merge(mean_mouse_weight, mean_tumor_volume, on=[\"Mouse_ID\"])\n",
    "\n",
    "plot = plt.scatter(Capomulin_tumor_vol_mouse_weight[\"Weight (g)\"], Capomulin_tumor_vol_mouse_weight[\"Tumor_Volume_mm3\"])\n",
    "plt.xlabel('Average weight (g)', size=12)\n",
    "plt.ylabel('Average tumor volume (mm^3)', size=12)\n",
    "plt.suptitle('Capomulin treatment: Average tumor volume vs. Average mouse weight')\n",
    "plt.show()"
   ]
  },
  {
   "cell_type": "markdown",
   "metadata": {},
   "source": [
    "Generate a scatter plot of mouse weight versus average tumor volume for the Capomulin regimen."
   ]
  },
  {
   "cell_type": "code",
   "execution_count": null,
   "metadata": {},
   "outputs": [],
   "source": [
    "plot = plt.scatter(Capomulin_tumor_vol_mouse_weight[\"Tumor_Volume_mm3\"], Capomulin_tumor_vol_mouse_weight[\"Weight (g)\"])\n",
    "plt.ylabel('Average weight (g)', size=12)\n",
    "plt.xlabel('Average tumor volume (mm^3)', size=12)\n",
    "plt.suptitle('Capomulin treatment: Average mouse weight vs. Average tumor volume')\n",
    "plt.show()"
   ]
  },
  {
   "cell_type": "markdown",
   "metadata": {},
   "source": [
    "## Correlation and Regression"
   ]
  },
  {
   "cell_type": "markdown",
   "metadata": {},
   "source": [
    "Calculate the correlation coefficient and linear regression model between mouse weight and \n",
    "average tumor volume for the Capomulin treatment. "
   ]
  },
  {
   "cell_type": "code",
   "execution_count": null,
   "metadata": {},
   "outputs": [],
   "source": [
    "#Capomulin_tumor_vol_mouse_weight\n",
    "\n",
    "Average_mouse_weight = Capomulin_tumor_vol_mouse_weight.iloc[:,0]\n",
    "Average_tumor_volume = Capomulin_tumor_vol_mouse_weight.iloc[:,1]\n",
    "correlation = st.pearsonr(Average_mouse_weight,Average_tumor_volume)\n",
    "print(f\"The correlation between average mouse weight and average tumor volume is {round(correlation[0],2)}\")"
   ]
  },
  {
   "cell_type": "markdown",
   "metadata": {},
   "source": [
    "Calculate the linear regression model between mouse weight and average tumor volume \n",
    "for the Capomulin treatment. Plot the linear regression model on top of the previous scatter plot."
   ]
  },
  {
   "cell_type": "code",
   "execution_count": null,
   "metadata": {},
   "outputs": [],
   "source": [
    "x_values = Capomulin_tumor_vol_mouse_weight[\"Weight (g)\"]\n",
    "y_values = Capomulin_tumor_vol_mouse_weight[\"Tumor_Volume_mm3\"]\n",
    "(slope, intercept, rvalue, pvalue, stderr) = linregress(x_values, y_values)\n",
    "regress_values = x_values * slope + intercept\n",
    "line_eq = \"y = \" + str(round(slope,2)) + \"x + \" + str(round(intercept,2))\n",
    "plt.scatter(x_values,y_values)\n",
    "plt.plot(x_values,regress_values,\"r-\")\n",
    "plt.annotate(line_eq,(20,35),fontsize=15,color=\"red\")\n",
    "plt.xlabel('Average weight (g)', size=12)\n",
    "plt.ylabel('Average tumor volume (mm^3)', size=12)\n",
    "plt.suptitle('Capomulin treatment: Average tumor volume vs. Average mouse weight', size=14)\n",
    "print(f\"The r-squared is: {rvalue**2}\")\n",
    "plt.show()"
   ]
  }
 ],
 "metadata": {
  "anaconda-cloud": {},
  "kernelspec": {
   "display_name": "Python 3",
   "language": "python",
   "name": "python3"
  },
  "language_info": {
   "codemirror_mode": {
    "name": "ipython",
    "version": 3
   },
   "file_extension": ".py",
   "mimetype": "text/x-python",
   "name": "python",
   "nbconvert_exporter": "python",
   "pygments_lexer": "ipython3",
   "version": "3.6.10"
  }
 },
 "nbformat": 4,
 "nbformat_minor": 2
}
