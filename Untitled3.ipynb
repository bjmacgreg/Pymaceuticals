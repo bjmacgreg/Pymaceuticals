{
 "cells": [
  {
   "cell_type": "code",
   "execution_count": 1,
   "metadata": {},
   "outputs": [
    {
     "data": {
      "text/html": [
       "<div>\n",
       "<style scoped>\n",
       "    .dataframe tbody tr th:only-of-type {\n",
       "        vertical-align: middle;\n",
       "    }\n",
       "\n",
       "    .dataframe tbody tr th {\n",
       "        vertical-align: top;\n",
       "    }\n",
       "\n",
       "    .dataframe thead th {\n",
       "        text-align: right;\n",
       "    }\n",
       "</style>\n",
       "<table border=\"1\" class=\"dataframe\">\n",
       "  <thead>\n",
       "    <tr style=\"text-align: right;\">\n",
       "      <th></th>\n",
       "      <th></th>\n",
       "      <th>A</th>\n",
       "      <th>B</th>\n",
       "      <th>C</th>\n",
       "      <th>D</th>\n",
       "    </tr>\n",
       "    <tr>\n",
       "      <th>lvl0</th>\n",
       "      <th>lvl1</th>\n",
       "      <th></th>\n",
       "      <th></th>\n",
       "      <th></th>\n",
       "      <th></th>\n",
       "    </tr>\n",
       "  </thead>\n",
       "  <tbody>\n",
       "    <tr>\n",
       "      <th rowspan=\"4\" valign=\"top\">0</th>\n",
       "      <th>0</th>\n",
       "      <td>1.302512</td>\n",
       "      <td>1.338151</td>\n",
       "      <td>1.235981</td>\n",
       "      <td>0.578344</td>\n",
       "    </tr>\n",
       "    <tr>\n",
       "      <th>1</th>\n",
       "      <td>-0.781314</td>\n",
       "      <td>-0.349492</td>\n",
       "      <td>-0.301846</td>\n",
       "      <td>-0.046746</td>\n",
       "    </tr>\n",
       "    <tr>\n",
       "      <th>2</th>\n",
       "      <td>0.212947</td>\n",
       "      <td>-2.024410</td>\n",
       "      <td>-0.599082</td>\n",
       "      <td>-2.189706</td>\n",
       "    </tr>\n",
       "    <tr>\n",
       "      <th>3</th>\n",
       "      <td>-0.320711</td>\n",
       "      <td>0.722788</td>\n",
       "      <td>1.311214</td>\n",
       "      <td>-1.062460</td>\n",
       "    </tr>\n",
       "    <tr>\n",
       "      <th>1</th>\n",
       "      <th>0</th>\n",
       "      <td>0.174191</td>\n",
       "      <td>-0.726255</td>\n",
       "      <td>1.217607</td>\n",
       "      <td>-1.344556</td>\n",
       "    </tr>\n",
       "    <tr>\n",
       "      <th>...</th>\n",
       "      <th>...</th>\n",
       "      <td>...</td>\n",
       "      <td>...</td>\n",
       "      <td>...</td>\n",
       "      <td>...</td>\n",
       "    </tr>\n",
       "    <tr>\n",
       "      <th>998</th>\n",
       "      <th>3</th>\n",
       "      <td>-0.722449</td>\n",
       "      <td>0.598558</td>\n",
       "      <td>-0.979164</td>\n",
       "      <td>0.896051</td>\n",
       "    </tr>\n",
       "    <tr>\n",
       "      <th rowspan=\"4\" valign=\"top\">999</th>\n",
       "      <th>0</th>\n",
       "      <td>-0.288494</td>\n",
       "      <td>-1.072286</td>\n",
       "      <td>-0.439844</td>\n",
       "      <td>-1.678646</td>\n",
       "    </tr>\n",
       "    <tr>\n",
       "      <th>1</th>\n",
       "      <td>-0.305587</td>\n",
       "      <td>0.341502</td>\n",
       "      <td>-0.251603</td>\n",
       "      <td>1.331669</td>\n",
       "    </tr>\n",
       "    <tr>\n",
       "      <th>2</th>\n",
       "      <td>0.643305</td>\n",
       "      <td>-1.906574</td>\n",
       "      <td>-0.221741</td>\n",
       "      <td>-0.794208</td>\n",
       "    </tr>\n",
       "    <tr>\n",
       "      <th>3</th>\n",
       "      <td>-0.395731</td>\n",
       "      <td>-2.997215</td>\n",
       "      <td>0.211486</td>\n",
       "      <td>-2.159718</td>\n",
       "    </tr>\n",
       "  </tbody>\n",
       "</table>\n",
       "<p>4000 rows × 4 columns</p>\n",
       "</div>"
      ],
      "text/plain": [
       "                  A         B         C         D\n",
       "lvl0 lvl1                                        \n",
       "0    0     1.302512  1.338151  1.235981  0.578344\n",
       "     1    -0.781314 -0.349492 -0.301846 -0.046746\n",
       "     2     0.212947 -2.024410 -0.599082 -2.189706\n",
       "     3    -0.320711  0.722788  1.311214 -1.062460\n",
       "1    0     0.174191 -0.726255  1.217607 -1.344556\n",
       "...             ...       ...       ...       ...\n",
       "998  3    -0.722449  0.598558 -0.979164  0.896051\n",
       "999  0    -0.288494 -1.072286 -0.439844 -1.678646\n",
       "     1    -0.305587  0.341502 -0.251603  1.331669\n",
       "     2     0.643305 -1.906574 -0.221741 -0.794208\n",
       "     3    -0.395731 -2.997215  0.211486 -2.159718\n",
       "\n",
       "[4000 rows x 4 columns]"
      ]
     },
     "execution_count": 1,
     "metadata": {},
     "output_type": "execute_result"
    }
   ],
   "source": [
    "import pandas\n",
    "import numpy as np\n",
    "import itertools\n",
    "\n",
    "tuples = [t for t in itertools.product(range(1000), range(4))]\n",
    "index = pandas.MultiIndex.from_tuples(tuples, names=['lvl0', 'lvl1'])\n",
    "data = np.random.randn(len(index),4)\n",
    "df = pandas.DataFrame(data, columns=list('ABCD'), index=index)\n",
    "\n",
    "df\n",
    "\n"
   ]
  },
  {
   "cell_type": "code",
   "execution_count": 13,
   "metadata": {},
   "outputs": [
    {
     "data": {
      "text/plain": [
       "0         AxesSubplot(0.1,0.559091;0.363636x0.340909)\n",
       "1    AxesSubplot(0.536364,0.559091;0.363636x0.340909)\n",
       "2             AxesSubplot(0.1,0.15;0.363636x0.340909)\n",
       "3        AxesSubplot(0.536364,0.15;0.363636x0.340909)\n",
       "dtype: object"
      ]
     },
     "execution_count": 13,
     "metadata": {},
     "output_type": "execute_result"
    },
    {
     "data": {
      "image/png": "[encoded data removed]",
      "text/plain": [
       "<Figure size 432x288 with 4 Axes>"
      ]
     },
     "metadata": {
      "needs_background": "light"
     },
     "output_type": "display_data"
    }
   ],
   "source": [
    "#ax = final_timepoints_grouped.boxplot(column=[\"Tumor_Volume_mm3\"], by=\"Drug_Regimen\", flierprops=red_diamond, rot=30)\n",
    "\n",
    "grouped = df.groupby(level='lvl1')\n",
    "\n",
    "#boxplot_frame_groupby(grouped)\n",
    "\n",
    "grouped.boxplot()"
   ]
  },
  {
   "cell_type": "code",
   "execution_count": 15,
   "metadata": {},
   "outputs": [
    {
     "data": {
      "text/plain": [
       "<matplotlib.axes._subplots.AxesSubplot at 0x7fbe48935fd0>"
      ]
     },
     "execution_count": 15,
     "metadata": {},
     "output_type": "execute_result"
    },
    {
     "data": {
      "image/png": "[encoded data removed]",
      "text/plain": [
       "<Figure size 432x288 with 1 Axes>"
      ]
     },
     "metadata": {
      "needs_background": "light"
     },
     "output_type": "display_data"
    }
   ],
   "source": [
    "grouped = df.unstack(level='lvl1').groupby(level=0, axis=1)\n",
    "#boxplot_frame_groupby(grouped, subplots=False)\n",
    "grouped.boxplot(subplots=False)"
   ]
  },
  {
   "cell_type": "code",
   "execution_count": 19,
   "metadata": {},
   "outputs": [
    {
     "ename": "IndentationError",
     "evalue": "unexpected indent (<ipython-input-19-909d29c8f562>, line 3)",
     "output_type": "error",
     "traceback": [
      "\u001b[0;36m  File \u001b[0;32m\"<ipython-input-19-909d29c8f562>\"\u001b[0;36m, line \u001b[0;32m3\u001b[0m\n\u001b[0;31m    countries\u001b[0m\n\u001b[0m    ^\u001b[0m\n\u001b[0;31mIndentationError\u001b[0m\u001b[0;31m:\u001b[0m unexpected indent\n"
     ]
    }
   ],
   "source": [
    "df = pd.DataFrame({'countries': ['US', 'UK', 'Germany', np.nan, 'China']})\n",
    "df\n",
    "  countries\n",
    "0        US\n",
    "1        UK\n",
    "2   Germany\n",
    "3     China\n",
    "\n",
    "c1 = ['UK', 'China']             # list\n",
    "c2 = {'Germany'}                 # set\n",
    "c3 = pd.Series(['China', 'US'])  # Series\n",
    "c4 = np.array(['US', 'UK'])      # array"
   ]
  },
  {
   "cell_type": "code",
   "execution_count": null,
   "metadata": {},
   "outputs": [],
   "source": []
  }
 ],
 "metadata": {
  "kernelspec": {
   "display_name": "Python 3",
   "language": "python",
   "name": "python3"
  },
  "language_info": {
   "codemirror_mode": {
    "name": "ipython",
    "version": 3
   },
   "file_extension": ".py",
   "mimetype": "text/x-python",
   "name": "python",
   "nbconvert_exporter": "python",
   "pygments_lexer": "ipython3",
   "version": "3.6.10"
  }
 },
 "nbformat": 4,
 "nbformat_minor": 4
}
